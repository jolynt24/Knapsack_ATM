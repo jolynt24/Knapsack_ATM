{
 "cells": [
  {
   "cell_type": "code",
   "execution_count": 1,
   "metadata": {},
   "outputs": [],
   "source": [
    "import pymysql\n",
    "import sys\n",
    "from atm.Fractional_Knapsack import atm"
   ]
  },
  {
   "cell_type": "code",
   "execution_count": 2,
   "metadata": {},
   "outputs": [],
   "source": [
    "db=pymysql.connect(\"localhost\",\"djjms\",\"atm123\",\"Smart_ATM\" )\n",
    "cursor=db.cursor()"
   ]
  },
  {
   "cell_type": "code",
   "execution_count": 3,
   "metadata": {},
   "outputs": [],
   "source": [
    "def display_account_type():\n",
    "    a_type=\"\"\n",
    "    print(\"Select one of the Account Type : \")\n",
    "    print(\"1. Savings\")\n",
    "    print(\"2. Current\")\n",
    "    print(\"3. Fixed\")\n",
    "    account_type=int(input(\"Enter the option : \"))\n",
    "    print(\"=============================================================================================================\")\n",
    "    display_menu()\n",
    "    \"\"\"if account_type==1: a_type=\"Savings\"\n",
    "    elif account_type==2: a_type=\"Current\"\n",
    "    elif account_type==3: a_type=\"Fixed\"\n",
    "    else:\n",
    "        a_type=\"null\"    \n",
    "    cursor.execute(\"SELECT Account_Type FROM Client WHERE Account_No=\"+account)\n",
    "    for row in cursor:\n",
    "        print(\"test\")\n",
    "        if row[0]==account_type:\n",
    "            display_menu()\n",
    "        else:\n",
    "            print(\"Account type does not match\")\n",
    "            break\"\"\""
   ]
  },
  {
   "cell_type": "code",
   "execution_count": 4,
   "metadata": {},
   "outputs": [],
   "source": [
    "def withdrawal(amount):\n",
    "    cursor.execute(\"SELECT Balance FROM Client WHERE Account_No=\"+account)\n",
    "    for row in cursor:\n",
    "        if amount<=int(row[0]):\n",
    "            amt,cash=withdraw_amount(amount)\n",
    "            print(\"Collect your cash\")\n",
    "            denominations,note_Count=get_denominations_and_count()\n",
    "            for key in cash:\n",
    "                if key in denominations:\n",
    "                    cursor.execute(\"UPDATE Counter SET Count=\"+str(note_Count[denominations.index(key)]-cash[key])+\n",
    "                                   \" WHERE Currency=\"+str(key))\n",
    "            cursor.execute(\"UPDATE Client SET Balance=\"+str(row[0]-amount)+\" WHERE Account_No=\"+account)\n",
    "        else: print(\"Unable to Withdraw Cash\")"
   ]
  },
  {
   "cell_type": "code",
   "execution_count": 5,
   "metadata": {},
   "outputs": [],
   "source": [
    "def display_menu():\n",
    "    print(\"Select the service : \")\n",
    "    print(\"1. Fast Cash\")\n",
    "    print(\"2. Withdraw\")\n",
    "    print(\"3. Balance Enquiry\")\n",
    "    print(\"4. PIN Change\")\n",
    "    print(\"5. Exit\")\n",
    "    menu_option=int(input(\"Enter the option : \"))\n",
    "    print(\"=============================================================================================================\")\n",
    "    if menu_option == 1:\n",
    "        fast_cash()\n",
    "    elif menu_option==2:\n",
    "        amount=int(input(\"Enter the withdrawal amount \"))\n",
    "        withdrawal(amount)\n",
    "    elif menu_option==3:\n",
    "        balance_enquiry(account)\n",
    "    elif menu_option==4:\n",
    "        pin_change(account)\n",
    "    else: \n",
    "        sys.exit()"
   ]
  },
  {
   "cell_type": "code",
   "execution_count": 6,
   "metadata": {},
   "outputs": [],
   "source": [
    "def fast_cash():\n",
    "    print(\"Select the amount : \")\n",
    "    print(\"a. 500\")\n",
    "    print(\"b. 1000\")\n",
    "    print(\"c. 2000\")\n",
    "    print(\"d. 3000\")\n",
    "    print(\"e. 5000\")\n",
    "    print(\"f. 10000\")\n",
    "    print(\"g. 15000\")\n",
    "    print(\"h. 20000\")\n",
    "    amt_option=input(\"Enter the option : \")\n",
    "    if amt_option==\"a\":\n",
    "        withdrawal(500)\n",
    "    elif amt_option==\"b\":\n",
    "        withdrawal(1000)\n",
    "    elif amt_option==\"c\":\n",
    "        withdrawal(2000)\n",
    "    elif amt_option==\"d\":\n",
    "        withdrawal(3000)\n",
    "    elif amt_option==\"e\":\n",
    "        withdrawal(5000)\n",
    "    elif amt_option==\"f\":\n",
    "        withdrawal(10000)\n",
    "    elif amt_option==\"g\":\n",
    "        withdrawal(15000)\n",
    "    elif amt_option==\"h\":\n",
    "        withdrawal(20000)\n",
    "    else: \n",
    "        return"
   ]
  },
  {
   "cell_type": "code",
   "execution_count": 7,
   "metadata": {},
   "outputs": [],
   "source": [
    "def withdraw_amount(amount):\n",
    "    denominations,note_Count=get_denominations_and_count()\n",
    "    total_amount_in_ATM=sum([d*n for d,n in zip(denominations,note_Count)])\n",
    "    if total_amount_in_ATM >amount:\n",
    "        return check_available_denominations(denominations,note_Count,amount)\n",
    "    elif amount>=total_amount_in_ATM:\n",
    "        gen_amt=atm.calculate_Amount(denominations,note_Count,amount)\n",
    "        if gen_amt<amount:\n",
    "            response=input(\"Amount is lesser than the requested amount. Do you want to continue? Yes(Y) or No (N)? : \")\n",
    "            if response==\"N\": quit()\n",
    "        return check_available_denominations(denominations,note_Count,amount)"
   ]
  },
  {
   "cell_type": "code",
   "execution_count": 8,
   "metadata": {},
   "outputs": [],
   "source": [
    "def get_denominations_and_count():\n",
    "    denominations,note_Count=list(),list()\n",
    "    cursor.execute(\"SELECT * FROM Counter\")\n",
    "    for row in cursor: \n",
    "        if row[1]!=0:\n",
    "            denominations.append(row[0])\n",
    "            note_Count.append(row[1])\n",
    "    return denominations,note_Count"
   ]
  },
  {
   "cell_type": "code",
   "execution_count": 9,
   "metadata": {},
   "outputs": [],
   "source": [
    "def check_available_denominations(denominations,note_Count,amount):\n",
    "    cash,total_amount={},0\n",
    "    cash=atm.dispense(denominations,note_Count,amount)\n",
    "    total_amount=calculate_cash(cash)\n",
    "    if total_amount<amount:\n",
    "        print(\"Amount that can be dispensed:\",total_amount)\n",
    "        response=input(\"Amount is lesser than the requested amount. Do you want to continue? Yes(Y) or No (N)? : \")\n",
    "        if response==\"N\": quit()\n",
    "    return total_amount,cash"
   ]
  },
  {
   "cell_type": "code",
   "execution_count": 10,
   "metadata": {},
   "outputs": [],
   "source": [
    "def calculate_cash(cash):\n",
    "    total=0\n",
    "    for n_count in cash: total+=n_count*cash[n_count]\n",
    "    return total"
   ]
  },
  {
   "cell_type": "code",
   "execution_count": 11,
   "metadata": {},
   "outputs": [],
   "source": [
    "def balance_enquiry(account_no):\n",
    "    if cursor.execute(\"SELECT Balance FROM Client WHERE Account_No=\"+account_no)==1:   \n",
    "        for row in cursor: \n",
    "            print(\"Current Balance:\",row[0])\n",
    "    else:print(\"Contact the bank\")"
   ]
  },
  {
   "cell_type": "code",
   "execution_count": null,
   "metadata": {},
   "outputs": [],
   "source": [
    "def pin_change(account_no):\n",
    "    cursor.execute(\"SELECT Pin FROM Card where Account_No=\"+account_no);\n",
    "    print(\"Please enter the new pin\")\n",
    "    new_Pin = input()\n",
    "    if(len(new_Pin)==4):\n",
    "        cursor.execute(\"UPDATE Card SET Pin = \"+new_Pin+\" where Account_No=\"+account_no);\n",
    "        print(\"Password is successfuly changed\")\n",
    "    else:\n",
    "        print(\"Enter a pin length of 4\")"
   ]
  },
  {
   "cell_type": "code",
   "execution_count": null,
   "metadata": {},
   "outputs": [
    {
     "name": "stdout",
     "output_type": "stream",
     "text": [
      "=============================================================================================================\n",
      "Welcome to the XX Bank\n",
      "=============================================================================================================\n",
      "Card Number : \n",
      "0123456789012345\n",
      "Pin : \n",
      "4567\n",
      "=============================================================================================================\n",
      "Select one of the Account Type : \n",
      "1. Savings\n",
      "2. Current\n",
      "3. Fixed\n",
      "Enter the option : 1\n",
      "=============================================================================================================\n",
      "Select the service : \n",
      "1. Fast Cash\n",
      "2. Withdraw\n",
      "3. Balance Enquiry\n",
      "4. PIN Change\n",
      "5. Exit\n",
      "Enter the option : 2\n",
      "=============================================================================================================\n",
      "Enter the withdrawal amount 2800\n",
      "Collect your cash\n",
      "=============================================================================================================\n",
      "Welcome to the XX Bank\n",
      "=============================================================================================================\n",
      "Card Number : \n",
      "0123456789012345\n",
      "Pin : \n",
      "4567\n",
      "=============================================================================================================\n",
      "Select one of the Account Type : \n",
      "1. Savings\n",
      "2. Current\n",
      "3. Fixed\n",
      "Enter the option : 1\n",
      "=============================================================================================================\n",
      "Select the service : \n",
      "1. Fast Cash\n",
      "2. Withdraw\n",
      "3. Balance Enquiry\n",
      "4. PIN Change\n",
      "5. Exit\n",
      "Enter the option : 3\n",
      "=============================================================================================================\n",
      "Current Balance: 31300\n",
      "=============================================================================================================\n",
      "Welcome to the XX Bank\n",
      "=============================================================================================================\n",
      "Card Number : \n"
     ]
    }
   ],
   "source": [
    "account=\"\"\n",
    "while True:\n",
    "    print(\"=============================================================================================================\")\n",
    "    print(\"Welcome to the XX Bank\")\n",
    "    print(\"=============================================================================================================\")\n",
    "    print(\"Card Number : \")\n",
    "    card=input()\n",
    "    print(\"Pin : \")\n",
    "    pin=input()\n",
    "    print(\"=============================================================================================================\")\n",
    "    cursor.execute(\"SELECT Account_No,Pin FROM Card WHERE Card_No=\"+card)\n",
    "    for row in cursor:\n",
    "        if row[1]==pin:\n",
    "            account=row[0]\n",
    "            display_account_type()\n",
    "        else:\n",
    "            print(\"ERROR!! Please enter the Card again\")\n",
    "            break\n",
    "    db.commit()"
   ]
  },
  {
   "cell_type": "code",
   "execution_count": null,
   "metadata": {},
   "outputs": [],
   "source": []
  }
 ],
 "metadata": {
  "kernelspec": {
   "display_name": "Python 3",
   "language": "python",
   "name": "python3"
  },
  "language_info": {
   "codemirror_mode": {
    "name": "ipython",
    "version": 3
   },
   "file_extension": ".py",
   "mimetype": "text/x-python",
   "name": "python",
   "nbconvert_exporter": "python",
   "pygments_lexer": "ipython3",
   "version": "3.6.7"
  }
 },
 "nbformat": 4,
 "nbformat_minor": 2
}
